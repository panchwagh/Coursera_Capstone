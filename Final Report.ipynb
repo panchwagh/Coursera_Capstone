{
    "cells": [
        {
            "cell_type": "markdown",
            "metadata": {
                "collapsed": true
            },
            "source": "# Final Report: Similarity between New York and Toronto"
        },
        {
            "cell_type": "markdown",
            "metadata": {},
            "source": "Neel Panchwagh"
        },
        {
            "cell_type": "markdown",
            "metadata": {},
            "source": "## Introduction / Business Problem"
        },
        {
            "cell_type": "markdown",
            "metadata": {},
            "source": "A small businesses owner has one store in Downtown Toronto. He wants to open a second store in the Toronto area, but wants to know where the ideal location for his store is. Where can he get the most traffic to his store? What location will attract the similar customer base? What location of the Toronto area is the most similar to the location of his current store? Neighboorhood clustering can help solve this problem and shed light to where this business owner should open his next store. Now, lets say he wants to expland his customer base and business footprint and open a new location in a different city, New York City. There are hundreds of locations to choose, from Battery Park to Midtown Manhattan, to DUMBO and Flushing. What neighborhood in NYC is most similar to his current neighborhood in Toronto? Should he open a store in Toronto or open a store in NYC? Clustering similar neighborhoods between the two cities can give the business owner a solution. "
        },
        {
            "cell_type": "markdown",
            "metadata": {},
            "source": "## Data Section"
        },
        {
            "cell_type": "markdown",
            "metadata": {},
            "source": "The data for this report comes from different sources. The first data source is to obtain neighborhood preliminary information for NYC boroughs. This data source comes with information about each of the five NYC boroughs, neighborhoods within each borough, and the location within NYC for each neighborhood. The second data source is similar to the first data source, except it contains Toronto information. The second data source contains postal codes for different areas in Toronto. Each postal code is associated with borough and a group of nearby neighborhoods. For example, the postal code M5A in Toronto is located in the borough of Downtown Toronto, containing two neighborhoods: Regent Park and Harbourfront. The third data source comes from Foursquare location services. Foursquare provides the necessay venue information for places in both Toronto and NYC. Each venue comes with information about its name, geographic coordinates, venue type and category, and neighborhood location. This allows us to place each venue in a specific neighborhood in either the NYC or Toronto area, which allows for further analysis and machine learning. "
        },
        {
            "cell_type": "code",
            "execution_count": null,
            "metadata": {},
            "outputs": [],
            "source": ""
        }
    ],
    "metadata": {
        "kernelspec": {
            "display_name": "Python 3.6",
            "language": "python",
            "name": "python3"
        },
        "language_info": {
            "codemirror_mode": {
                "name": "ipython",
                "version": 3
            },
            "file_extension": ".py",
            "mimetype": "text/x-python",
            "name": "python",
            "nbconvert_exporter": "python",
            "pygments_lexer": "ipython3",
            "version": "3.6.9"
        }
    },
    "nbformat": 4,
    "nbformat_minor": 1
}